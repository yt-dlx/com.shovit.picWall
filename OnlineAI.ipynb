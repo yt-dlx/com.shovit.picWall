{
 "cells": [
  {
   "cell_type": "markdown",
   "metadata": {},
   "source": [
    "### Client Setup"
   ]
  },
  {
   "cell_type": "code",
   "execution_count": null,
   "metadata": {},
   "outputs": [],
   "source": [
    "from openai import OpenAI\n",
    "\n",
    "API_KEY = \"\"\n",
    "BASE_URL = \"https://api.sree.shop/v1\"\n",
    "client = OpenAI(api_key=API_KEY, base_url=BASE_URL)"
   ]
  },
  {
   "cell_type": "markdown",
   "metadata": {},
   "source": [
    "### List Available Models"
   ]
  },
  {
   "cell_type": "code",
   "execution_count": null,
   "metadata": {},
   "outputs": [],
   "source": [
    "try:\n",
    "    models = client.models.list().data\n",
    "    for model in models:\n",
    "        print(model.id)\n",
    "except Exception as e:\n",
    "    print(\"Error listing models:\", e)"
   ]
  },
  {
   "cell_type": "markdown",
   "metadata": {},
   "source": [
    "### Test GPT-4o"
   ]
  },
  {
   "cell_type": "code",
   "execution_count": null,
   "metadata": {},
   "outputs": [],
   "source": [
    "print(\"\\n--- GPT-4o Response ---\")\n",
    "try:\n",
    "    completion = client.chat.completions.create(model=\"gpt-4o\", messages=[{\"role\": \"user\", \"content\": \"Hello, how are you?\"}])\n",
    "    print(completion.choices[0].message.content)\n",
    "except Exception as e:\n",
    "    print(\"Error:\", e)"
   ]
  },
  {
   "cell_type": "code",
   "execution_count": null,
   "metadata": {},
   "outputs": [],
   "source": [
    "print(\"\\n--- [gpt-4o-2024-05-13] ---\")\n",
    "try:\n",
    "    completion = client.chat.completions.create(model=\"gpt-4o-2024-05-13\", messages=[{\"role\": \"user\", \"content\": \"Hello, how are you?\"}])\n",
    "    print(completion.choices[0].message.content)\n",
    "except Exception as e:\n",
    "    print(\"Error:\", e)"
   ]
  },
  {
   "cell_type": "markdown",
   "metadata": {},
   "source": [
    "### Test Claude 3.5 Sonnet"
   ]
  },
  {
   "cell_type": "code",
   "execution_count": null,
   "metadata": {},
   "outputs": [],
   "source": [
    "print(\"\\n--- Claude 3.5 Sonnet Response ---\")\n",
    "try:\n",
    "    completion = client.chat.completions.create(model=\"claude-3-5-sonnet\", messages=[{\"role\": \"user\", \"content\": \"Hello, how are you?\"}])\n",
    "    print(completion.choices[0].message.content)\n",
    "except Exception as e:\n",
    "    print(\"Error:\", e)"
   ]
  },
  {
   "cell_type": "code",
   "execution_count": null,
   "metadata": {},
   "outputs": [],
   "source": [
    "print(\"\\n--- Claude 3.5 Sonnet Response ---\")\n",
    "try:\n",
    "    completion = client.chat.completions.create(model=\"claude-3-5-sonnet-20240620\", messages=[{\"role\": \"user\", \"content\": \"Hello, how are you?\"}])\n",
    "    print(completion.choices[0].message.content)\n",
    "except Exception as e:\n",
    "    print(\"Error:\", e)"
   ]
  },
  {
   "cell_type": "markdown",
   "metadata": {},
   "source": [
    "### Test DeepSeek R1 Distill"
   ]
  },
  {
   "cell_type": "code",
   "execution_count": null,
   "metadata": {},
   "outputs": [],
   "source": [
    "print(\"\\n--- [DeepSeek-R1-Distill-Qwen-32B] ---\")\n",
    "try:\n",
    "    completion = client.chat.completions.create(model=\"deepseek-ai/DeepSeek-R1-Distill-Qwen-32B\", messages=[{\"role\": \"user\", \"content\": \"Hello, how are you?\"}])\n",
    "    print(completion.choices[0].message.content)\n",
    "except Exception as e:\n",
    "    print(\"Error:\", e)"
   ]
  },
  {
   "cell_type": "code",
   "execution_count": null,
   "metadata": {},
   "outputs": [],
   "source": [
    "print(\"\\n--- [deepseek-r1] ---\")\n",
    "try:\n",
    "    completion = client.chat.completions.create(model=\"deepseek-r1\", messages=[{\"role\": \"user\", \"content\": \"Hello, how are you?\"}])\n",
    "    print(completion.choices[0].message.content)\n",
    "except Exception as e:\n",
    "    print(\"Error:\", e)"
   ]
  },
  {
   "cell_type": "markdown",
   "metadata": {},
   "source": [
    "### Test DeepSeek V3"
   ]
  },
  {
   "cell_type": "code",
   "execution_count": null,
   "metadata": {},
   "outputs": [],
   "source": [
    "print(\"\\n--- [deepseek-v3u] ---\")\n",
    "try:\n",
    "    completion = client.chat.completions.create(model=\"deepseek-v3u\", messages=[{\"role\": \"user\", \"content\": \"Hello, how are you?\"}])\n",
    "    print(completion.choices[0].message.content)\n",
    "except Exception as e:\n",
    "    print(\"Error:\", e)"
   ]
  },
  {
   "cell_type": "markdown",
   "metadata": {},
   "source": [
    "### Test Llama 3 70B Turbo"
   ]
  },
  {
   "cell_type": "code",
   "execution_count": null,
   "metadata": {},
   "outputs": [],
   "source": [
    "print(\"\\n--- [Meta-Llama-3.3-70B-Instruct-Turbo] ---\")\n",
    "try:\n",
    "    completion = client.chat.completions.create(model=\"Meta-Llama-3.3-70B-Instruct-Turbo\", messages=[{\"role\": \"user\", \"content\": \"Hello, how are you?\"}])\n",
    "    print(completion.choices[0].message.content)\n",
    "except Exception as e:\n",
    "    print(\"Error:\", e)"
   ]
  }
 ],
 "metadata": {
  "kernelspec": {
   "display_name": ".venv",
   "language": "python",
   "name": "python3"
  },
  "language_info": {
   "codemirror_mode": {
    "name": "ipython",
    "version": 3
   },
   "file_extension": ".py",
   "mimetype": "text/x-python",
   "name": "python",
   "nbconvert_exporter": "python",
   "pygments_lexer": "ipython3",
   "version": "3.10.11"
  }
 },
 "nbformat": 4,
 "nbformat_minor": 2
}
